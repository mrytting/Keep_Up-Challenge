{
 "cells": [
  {
   "cell_type": "code",
   "execution_count": 1,
   "metadata": {
    "collapsed": true
   },
   "outputs": [],
   "source": [
    "% matplotlib inline\n",
    "import pandas as pd\n",
    "import numpy as np\n",
    "import matplotlib.pyplot as plt\n",
    "plt.style.use('ggplot')\n",
    "import re"
   ]
  },
  {
   "cell_type": "markdown",
   "metadata": {},
   "source": [
    "Here is what the text file looks like. The Information appears to be set up as a dictionary with the categories: ID, ASIN, title, group, salesrank, similar, categories (this looks like it has sub-elements), reviews (again with sub-elements). Actually, it reminds me a bit of an XML file in that way.\n",
    "\n",
    "Id: 1 ASIN: 0827229534 title: Patterns of Preaching: A Sermon Sampler group: Book salesrank: 396585 similar: 5 0804215715 156101074X 0687023955 0687074231 082721619X categories: 2 |Books[283155]|Subjects[1000]|Religion & Spirituality[22]|Christianity[12290]|Clergy[12360]|Preaching[12368] |Books[283155]|Subjects[1000]|Religion & Spirituality[22]|Christianity[12290]|Clergy[12360]|Sermons[12370] reviews: total: 2 downloaded: 2 avg rating: 5 2000-7-28 cutomer: A2JW67OY8U6HHK rating: 5 votes: 10 helpful: 9 2003-12-14 cutomer: A2VE83MZF98ITY rating: 5 votes: 6 helpful: 5\n",
    "\n",
    "Id: 2 ASIN: 0738700797 title: Candlemas: Feast of Flames group: Book salesrank: 168596 similar: 5 0738700827 1567184960 1567182836 0738700525 0738700940 categories: 2 |Books[283155]|Subjects[1000]|Religion & Spirituality[22]|Earth-Based Religions[12472]|Wicca[12484] |Books[283155]|Subjects[1000]|Religion & Spirituality[22]|Earth-Based Religions[12472]|Witchcraft[12486] reviews: total: 12 downloaded: 12 avg rating: 4.5 2001-12-16 cutomer: A11NCO6YTE4BTJ rating: 5 votes: 5 helpful: 4 2002-1-7 cutomer: A9CQ3PLRNIR83 rating: 4 votes: 5 helpful: 5 2002-1-24 cutomer: A13SG9ACZ9O5IM rating: 5 votes: 8 helpful: 8 2002-1-28 cutomer: A1BDAI6VEYMAZA rating: 5 votes: 4 helpful: 4 2002-2-6 cutomer: A2P6KAWXJ16234 rating: 4 votes: 16 helpful: 16 2002-2-14 cutomer: AMACWC3M7PQFR rating: 4 votes: 5 helpful: 5 2002-3-23 cutomer: A3GO7UV9XX14D8 rating: 4 votes: 6 helpful: 6 2002-5-23 cutomer: A1GIL64QK68WKL rating: 5 votes: 8 helpful: 8 2003-2-25 cutomer: AEOBOF2ONQJWV rating: 5 votes: 8 helpful: 5 2003-11-25 cutomer: A3IGHTES8ME05L rating: 5 votes: 5 helpful: 5 2004-2-11 cutomer: A1CP26N8RHYVVO rating: 1 votes: 13 helpful: 9 2005-2-7 cutomer: ANEIANH0WAT9D rating: 5 votes: 1 helpful: 1\n",
    "\n",
    "Id: 3 ASIN: 0486287785 title: World War II Allied Fighter Planes Trading Cards group: Book salesrank: 1270652 similar: 0 categories: 1 |Books[283155]|Subjects[1000]|Home & Garden[48]|Crafts & Hobbies[5126]|General[5144] reviews: total: 1 downloaded: 1 avg rating: 5 2003-7-10 cutomer: A3IDGASRQAW8B2 rating: 5 votes: 2 helpful: 2\n",
    "\n",
    "Id: 4 ASIN: 0842328327 title: Life Application Bible Commentary: 1 and 2 Timothy and Titus group: Book salesrank: 631289 similar: 5 0842328130 0830818138 0842330313 0842328610 0842328572 categories: 5 |Books[283155]|Subjects[1000]|Religion & Spirituality[22]|Christianity[12290]|Reference[172810]|Commentaries[12155]|New Testament[12159] |Books[283155]|Subjects[1000]|Religion & Spirituality[22]|Christianity[12290]|Christian Living[12333]|Discipleship[12335] |Books[283155]|Subjects[1000]|Religion & Spirituality[22]|Christianity[12290]|Bibles[12059]|Translations[764432]|Life Application[572080] |Books[283155]|Subjects[1000]|Religion & Spirituality[22]|Bible & Other Sacred Texts[12056]|Bible[764430]|New Testament[572082] |Books[283155]|Subjects[1000]|Religion & Spirituality[22]|Christianity[12290]|Bibles[12059]|Study Guides, History & Reference[764438]|General[572094] reviews: total: 1 downloaded: 1 avg rating: 4 2004-8-19 cutomer: A2591BUPXCS705 rating: 4 votes: 1 helpful: 1\n",
    "\n",
    "Ultimately I only need to access the information in the ratings section and the category section. The issue is that both of these are complex sections. The ratings has customer information in it that may actually be useful as a cursory glance shows that some custormers are posting multiple times on the same product - thus skewing the ratings. Further, it has votes and helpfulness aspects and dates.\n",
    "\n",
    "The category section is a mess of multiple labels. I'm guessing these are trees in a sense and only the last label matters, but I'm not sure.\n",
    "#### These are the tasks I need to do:\n",
    "\n",
    "1. Trustworthiness of ratings Ratings are susceptible to manipulation, bias etc. What can you say (quantitatively speaking) about the ratings in this dataset?\n",
    "\n",
    "So, from the ratings I should make sure to select the customer id (to check for people who are posting multiple reviews on teh same product), the rating, the votes, and the helpful marks. I can look for correations between what rating is given and how helpful it was, recalcualted averages without duplicates, etc. I will also get the line saying what the average rating and total number of ratings is.\n",
    "\n",
    "2 Category bloat\n",
    "\n",
    "Consider the product group named 'Books'. Each product in this group is associated with categories. Naturally, with categorization, there are tradeoffs between how broad or specific the categories must be. For this dataset, quantify the following: a. Is there redundancy in the categorization? How can it be identified/removed? b. Is is possible to reduce the number of categories drastically (say to 10% of existing categories) by sacrificing relatively few category entries (say close to 10%)?\n",
    "\n",
    "I will need to check which category the product is and only keep the books, then make a record of different categories so I can check counts of categories to look for redundencies"
   ]
  },
  {
   "cell_type": "markdown",
   "metadata": {},
   "source": [
    "## Part 1"
   ]
  },
  {
   "cell_type": "code",
   "execution_count": 62,
   "metadata": {
    "collapsed": false
   },
   "outputs": [
    {
     "data": {
      "text/html": [
       "<div>\n",
       "<style>\n",
       "    .dataframe thead tr:only-child th {\n",
       "        text-align: right;\n",
       "    }\n",
       "\n",
       "    .dataframe thead th {\n",
       "        text-align: left;\n",
       "    }\n",
       "\n",
       "    .dataframe tbody tr th {\n",
       "        vertical-align: top;\n",
       "    }\n",
       "</style>\n",
       "<table border=\"1\" class=\"dataframe\">\n",
       "  <thead>\n",
       "    <tr style=\"text-align: right;\">\n",
       "      <th></th>\n",
       "      <th></th>\n",
       "      <th>CID</th>\n",
       "      <th>rating</th>\n",
       "      <th>votes</th>\n",
       "      <th>helpful</th>\n",
       "    </tr>\n",
       "  </thead>\n",
       "  <tbody>\n",
       "    <tr>\n",
       "      <th rowspan=\"5\" valign=\"top\">0001054600</th>\n",
       "      <th>0</th>\n",
       "      <td>A3EBTGZWHEF0S6</td>\n",
       "      <td>5</td>\n",
       "      <td>0</td>\n",
       "      <td>0</td>\n",
       "    </tr>\n",
       "    <tr>\n",
       "      <th>1</th>\n",
       "      <td>A1RDPX33VRWNRS</td>\n",
       "      <td>4</td>\n",
       "      <td>0</td>\n",
       "      <td>0</td>\n",
       "    </tr>\n",
       "    <tr>\n",
       "      <th>2</th>\n",
       "      <td>ATVPDKIKX0DER</td>\n",
       "      <td>5</td>\n",
       "      <td>0</td>\n",
       "      <td>0</td>\n",
       "    </tr>\n",
       "    <tr>\n",
       "      <th>3</th>\n",
       "      <td>A2INDL2WDASVRX</td>\n",
       "      <td>5</td>\n",
       "      <td>0</td>\n",
       "      <td>0</td>\n",
       "    </tr>\n",
       "    <tr>\n",
       "      <th>4</th>\n",
       "      <td>ATVPDKIKX0DER</td>\n",
       "      <td>5</td>\n",
       "      <td>0</td>\n",
       "      <td>0</td>\n",
       "    </tr>\n",
       "  </tbody>\n",
       "</table>\n",
       "</div>"
      ],
      "text/plain": [
       "                         CID rating votes helpful\n",
       "0001054600 0  A3EBTGZWHEF0S6      5     0       0\n",
       "           1  A1RDPX33VRWNRS      4     0       0\n",
       "           2   ATVPDKIKX0DER      5     0       0\n",
       "           3  A2INDL2WDASVRX      5     0       0\n",
       "           4   ATVPDKIKX0DER      5     0       0"
      ]
     },
     "execution_count": 62,
     "metadata": {},
     "output_type": "execute_result"
    }
   ],
   "source": [
    "reviews = pd.read_pickle('first_method_all.pkl')\n",
    "reviews.head()"
   ]
  },
  {
   "cell_type": "code",
   "execution_count": 63,
   "metadata": {
    "collapsed": false
   },
   "outputs": [
    {
     "data": {
      "text/plain": [
       "ATVPDKIKX0DER     406351\n",
       "A3UN6WX5RRO2AG     82856\n",
       "A14OJS0VWMOSWO      4106\n",
       "A2NJO6YE954DBH      2707\n",
       "AFVQZQ8PW0L         2356\n",
       "A9Q28YTLYREO7       1918\n",
       "A1K1JW1C5CUSUZ      1568\n",
       "AU8552YCOO5QX       1257\n",
       "A3LZGLA88K0LA0       980\n",
       "A20EEWWSFMZ1PN       966\n",
       "A1D2C0WDCSHUWZ       908\n",
       "A1GN8UJIZLCA59       880\n",
       "A2ODBHT4URXVXQ       853\n",
       "A3P1A63Q8L32C5       840\n",
       "A3QZCA4LTTVGAD       803\n",
       "A3KF4IP2MUS8QQ       792\n",
       "A3QVAKVRAH657N       782\n",
       "A16CZRQL23NOIW       750\n",
       "A96K1ZGW56S2I        712\n",
       "A2EENLV6OQ3DYM       711\n",
       "A31U2QT7SAL7K        698\n",
       "AJKWF4W7QD4NS        698\n",
       "A1IU7S4HCK1XK0       696\n",
       "A2QRB6L1MCJ53G       692\n",
       "A26JGAM6GZMM4V       686\n",
       "A1NATT3PN24QWY       681\n",
       "A281NPSIMI1C2R       662\n",
       "A26TSW6AI59ZCV       622\n",
       "A1IOJE0W1NXOSE       621\n",
       "A37F1G84K35FCZ       620\n",
       "                   ...  \n",
       "A1WKUANC0T3F3Y         1\n",
       "A33XN8E1ZCDFCK         1\n",
       "A2R0S5N9E33WMG         1\n",
       "A2EDEU1LWJTGC7         1\n",
       "A76WZDOZ6NV2O          1\n",
       "ADU3NOCDQSR7J          1\n",
       "A30YYKA342Z0NF         1\n",
       "A3T8K6GYBSLODY         1\n",
       "A3HYMBYEV60HAG         1\n",
       "AUVETC3Z577P6          1\n",
       "A22SXDB3HJ4R84         1\n",
       "AA2VMDUNQCLJX          1\n",
       "A38VEW7TLAACSW         1\n",
       "A1T29X4NMY7DJT         1\n",
       "A34UV4SB2HYWE4         1\n",
       "A34GYCS9P6BGEF         1\n",
       "A2C5WSQC104YD8         1\n",
       "A1FHTV3GUYNEAB         1\n",
       "A2T8VBR2Q3AMSD         1\n",
       "A1UMYDGNCVU6IS         1\n",
       "A33C2JTQ556CEW         1\n",
       "A2ECKSUTVJ99I0         1\n",
       "AP6T5UQ8XMVNO          1\n",
       "A1EKW7V59W06IX         1\n",
       "A1S6XA8LYMZUYJ         1\n",
       "AEBPNAPLB3VMX          1\n",
       "A153FHN0PG64BN         1\n",
       "A31L7U3RNVHCK9         1\n",
       "A1H9N3G8Z5WHFY         1\n",
       "A3LHIQFPONMLY5         1\n",
       "Name: CID, Length: 975136, dtype: int64"
      ]
     },
     "execution_count": 63,
     "metadata": {},
     "output_type": "execute_result"
    }
   ],
   "source": [
    "reviews['CID'].value_counts()"
   ]
  },
  {
   "cell_type": "code",
   "execution_count": 68,
   "metadata": {
    "collapsed": false
   },
   "outputs": [
    {
     "data": {
      "text/plain": [
       "(array([  5.62515000e+05,   2.72185000e+05,   6.55060000e+04,\n",
       "          2.61650000e+04,   1.35520000e+04,   7.92200000e+03,\n",
       "          5.38400000e+03,   3.68100000e+03,   2.64500000e+03,\n",
       "          2.11700000e+03,   1.58700000e+03,   1.29100000e+03,\n",
       "          1.08900000e+03,   8.99000000e+02,   7.64000000e+02,\n",
       "          6.50000000e+02,   5.60000000e+02,   4.55000000e+02,\n",
       "          4.43000000e+02,   3.87000000e+02,   3.51000000e+02,\n",
       "          3.17000000e+02,   2.84000000e+02,   2.43000000e+02,\n",
       "          2.43000000e+02,   2.05000000e+02,   1.93000000e+02,\n",
       "          1.83000000e+02,   1.62000000e+02,   1.49000000e+02,\n",
       "          1.40000000e+02,   1.24000000e+02,   1.26000000e+02,\n",
       "          1.02000000e+02,   1.20000000e+02,   9.80000000e+01,\n",
       "          1.10000000e+02,   7.40000000e+01,   6.70000000e+01,\n",
       "          8.20000000e+01,   7.90000000e+01,   5.00000000e+01,\n",
       "          6.00000000e+01,   6.70000000e+01,   6.70000000e+01,\n",
       "          5.40000000e+01,   4.70000000e+01,   4.70000000e+01,\n",
       "          4.50000000e+01,   6.70000000e+01]),\n",
       " array([   0.,    2.,    4.,    6.,    8.,   10.,   12.,   14.,   16.,\n",
       "          18.,   20.,   22.,   24.,   26.,   28.,   30.,   32.,   34.,\n",
       "          36.,   38.,   40.,   42.,   44.,   46.,   48.,   50.,   52.,\n",
       "          54.,   56.,   58.,   60.,   62.,   64.,   66.,   68.,   70.,\n",
       "          72.,   74.,   76.,   78.,   80.,   82.,   84.,   86.,   88.,\n",
       "          90.,   92.,   94.,   96.,   98.,  100.]),\n",
       " <a list of 50 Patch objects>)"
      ]
     },
     "execution_count": 68,
     "metadata": {},
     "output_type": "execute_result"
    },
    {
     "data": {
      "image/png": "[encoded data removed]",
      "text/plain": [
       "<matplotlib.figure.Figure at 0x15296438>"
      ]
     },
     "metadata": {},
     "output_type": "display_data"
    }
   ],
   "source": [
    "plt.hist(reviews['CID'].value_counts(), bins = 50, range=[0,100])"
   ]
  },
  {
   "cell_type": "markdown",
   "metadata": {},
   "source": [
    "There are a few extreme outliers on the number of ratings. Most only rate a couple of times. As you can see below."
   ]
  },
  {
   "cell_type": "code",
   "execution_count": 69,
   "metadata": {
    "collapsed": false
   },
   "outputs": [
    {
     "data": {
      "text/plain": [
       "1       562515\n",
       "2       187897\n",
       "3        84288\n",
       "4        42779\n",
       "5        22727\n",
       "6        16083\n",
       "7        10082\n",
       "8         7871\n",
       "9         5681\n",
       "10        4488\n",
       "11        3434\n",
       "12        3062\n",
       "13        2322\n",
       "14        2011\n",
       "15        1670\n",
       "16        1403\n",
       "17        1242\n",
       "18        1140\n",
       "19         977\n",
       "20         836\n",
       "21         751\n",
       "22         671\n",
       "23         620\n",
       "24         599\n",
       "25         490\n",
       "26         456\n",
       "27         443\n",
       "28         387\n",
       "29         377\n",
       "30         326\n",
       "         ...  \n",
       "334          1\n",
       "585          1\n",
       "339          1\n",
       "853          1\n",
       "342          1\n",
       "346          1\n",
       "577          1\n",
       "349          1\n",
       "574          1\n",
       "351          1\n",
       "361          1\n",
       "328          1\n",
       "327          1\n",
       "596          1\n",
       "304          1\n",
       "617          1\n",
       "297          1\n",
       "616          1\n",
       "298          1\n",
       "614          1\n",
       "303          1\n",
       "611          1\n",
       "324          1\n",
       "307          1\n",
       "2356         1\n",
       "312          1\n",
       "314          1\n",
       "319          1\n",
       "320          1\n",
       "510          1\n",
       "Name: CID, Length: 440, dtype: int64"
      ]
     },
     "execution_count": 69,
     "metadata": {},
     "output_type": "execute_result"
    }
   ],
   "source": [
    "reviews['CID'].value_counts().value_counts()"
   ]
  },
  {
   "cell_type": "code",
   "execution_count": 71,
   "metadata": {
    "collapsed": false,
    "scrolled": true
   },
   "outputs": [
    {
     "data": {
      "text/plain": [
       "5    281458\n",
       "4     57537\n",
       "1     27507\n",
       "3     23584\n",
       "2     16265\n",
       "Name: rating, dtype: int64"
      ]
     },
     "execution_count": 71,
     "metadata": {},
     "output_type": "execute_result"
    }
   ],
   "source": [
    "most = reviews[reviews['CID'] == 'ATVPDKIKX0DER']\n",
    "most['rating'].value_counts()"
   ]
  },
  {
   "cell_type": "code",
   "execution_count": 72,
   "metadata": {
    "collapsed": false
   },
   "outputs": [
    {
     "data": {
      "text/plain": [
       "(array([  251671.,        0.,   179338.,        0.,        0.,   271474.,\n",
       "               0.,   605602.,        0.,  1963811.]),\n",
       " array([ 1. ,  1.4,  1.8,  2.2,  2.6,  3. ,  3.4,  3.8,  4.2,  4.6,  5. ]),\n",
       " <a list of 10 Patch objects>)"
      ]
     },
     "execution_count": 72,
     "metadata": {},
     "output_type": "execute_result"
    },
    {
     "data": {
      "image/png": "[encoded data removed]",
      "text/plain": [
       "<matplotlib.figure.Figure at 0x13d82470>"
      ]
     },
     "metadata": {},
     "output_type": "display_data"
    }
   ],
   "source": [
    "plt.hist(reviews['rating'])"
   ]
  },
  {
   "cell_type": "code",
   "execution_count": 74,
   "metadata": {
    "collapsed": false,
    "scrolled": true
   },
   "outputs": [
    {
     "data": {
      "text/plain": [
       "5    1963811\n",
       "4     605602\n",
       "3     271474\n",
       "1     251671\n",
       "2     179338\n",
       "Name: rating, dtype: int64"
      ]
     },
     "execution_count": 74,
     "metadata": {},
     "output_type": "execute_result"
    }
   ],
   "source": [
    "rate = reviews['rating'].value_counts()\n",
    "rate"
   ]
  },
  {
   "cell_type": "markdown",
   "metadata": {},
   "source": [
    "Both visually and quantitatively you can see here that the ratings are greatly skewed to the high end."
   ]
  },
  {
   "cell_type": "code",
   "execution_count": 77,
   "metadata": {
    "collapsed": false,
    "scrolled": false
   },
   "outputs": [
    {
     "data": {
      "text/plain": [
       "0.6477449566238744"
      ]
     },
     "execution_count": 77,
     "metadata": {},
     "output_type": "execute_result"
    }
   ],
   "source": [
    "sum(reviews['helpful'])/sum(reviews['votes'])"
   ]
  },
  {
   "cell_type": "code",
   "execution_count": 94,
   "metadata": {
    "collapsed": false,
    "scrolled": true
   },
   "outputs": [
    {
     "data": {
      "text/plain": [
       "4.1768540320352479"
      ]
     },
     "execution_count": 94,
     "metadata": {},
     "output_type": "execute_result"
    }
   ],
   "source": [
    "np.mean(reviews['rating'])"
   ]
  },
  {
   "cell_type": "markdown",
   "metadata": {},
   "source": [
    "### Part 1 Answer\n",
    "\n",
    "The vast majority of ratings are 5's (about 60%) and the average rating is 4.18. There is also an issue of some users voting multiple times on the same product. One user alone did 400,000+ ratings! \n",
    "\n",
    "It is also interesting to note that there is a about 65% chance a review will be rated as helpful and only 35%  chance it will be voted as unhelpful. In other words, if someone takes the time to vote on a review, usuallly it is because they like it."
   ]
  },
  {
   "cell_type": "markdown",
   "metadata": {},
   "source": [
    "## Part 2"
   ]
  },
  {
   "cell_type": "code",
   "execution_count": 3,
   "metadata": {
    "collapsed": true
   },
   "outputs": [],
   "source": [
    "# Define read_large_file()\n",
    "def read_large_file(file_object):\n",
    "    \"\"\"A generator function to read a large file lazily.\"\"\"\n",
    "\n",
    "    # Loop indefinitely until the end of the file\n",
    "    while True:\n",
    "\n",
    "        # Read a line from the file: data\n",
    "        data = file_object.readline()\n",
    "\n",
    "        # Break if this is the end of the file\n",
    "        if not data:\n",
    "            break\n",
    "\n",
    "        # Yield the line of data\n",
    "        yield data"
   ]
  },
  {
   "cell_type": "code",
   "execution_count": 4,
   "metadata": {
    "collapsed": false
   },
   "outputs": [],
   "source": [
    "with open('subset.txt', encoding = 'latin-1') as file:\n",
    "\n",
    "    # Iterate over the generator from read_large_file()\n",
    "    for line in read_large_file(file):  \n",
    "        if len(line) >= 3:\n",
    "            if line[3] == '|':\n",
    "                customer_info = line.split('|')\n",
    "                category = customer_info[-1][:-2]"
   ]
  },
  {
   "cell_type": "code",
   "execution_count": 5,
   "metadata": {
    "collapsed": false
   },
   "outputs": [
    {
     "data": {
      "text/plain": [
       "['   ',\n",
       " 'Music[5174]',\n",
       " 'Specialty Stores[468040]',\n",
       " 'Imports[701208]',\n",
       " 'Jazz[916554]\\n']"
      ]
     },
     "execution_count": 5,
     "metadata": {},
     "output_type": "execute_result"
    }
   ],
   "source": [
    "customer_info"
   ]
  },
  {
   "cell_type": "code",
   "execution_count": 8,
   "metadata": {
    "collapsed": true
   },
   "outputs": [],
   "source": [
    "category = customer_info[-1][:-1]"
   ]
  },
  {
   "cell_type": "code",
   "execution_count": 9,
   "metadata": {
    "collapsed": false
   },
   "outputs": [
    {
     "data": {
      "text/plain": [
       "'Jazz[916554]'"
      ]
     },
     "execution_count": 9,
     "metadata": {},
     "output_type": "execute_result"
    }
   ],
   "source": [
    "category"
   ]
  },
  {
   "cell_type": "markdown",
   "metadata": {},
   "source": [
    "### Do not run this next cell again, just load 'category.pkl'."
   ]
  },
  {
   "cell_type": "code",
   "execution_count": 14,
   "metadata": {
    "collapsed": false,
    "scrolled": true
   },
   "outputs": [
    {
     "ename": "KeyboardInterrupt",
     "evalue": "",
     "output_type": "error",
     "traceback": [
      "\u001b[0;31m---------------------------------------------------------------------------\u001b[0m",
      "\u001b[0;31mKeyboardInterrupt\u001b[0m                         Traceback (most recent call last)",
      "\u001b[0;32m<ipython-input-14-ea4e3a580d4a>\u001b[0m in \u001b[0;36m<module>\u001b[0;34m()\u001b[0m\n\u001b[1;32m     25\u001b[0m                 \u001b[0mcustomer_info\u001b[0m \u001b[1;33m=\u001b[0m \u001b[0mline\u001b[0m\u001b[1;33m.\u001b[0m\u001b[0msplit\u001b[0m\u001b[1;33m(\u001b[0m\u001b[1;34m'|'\u001b[0m\u001b[1;33m)\u001b[0m\u001b[1;33m\u001b[0m\u001b[0m\n\u001b[1;32m     26\u001b[0m                 \u001b[0mcategory\u001b[0m \u001b[1;33m=\u001b[0m \u001b[0mcustomer_info\u001b[0m\u001b[1;33m[\u001b[0m\u001b[1;33m-\u001b[0m\u001b[1;36m1\u001b[0m\u001b[1;33m]\u001b[0m\u001b[1;33m[\u001b[0m\u001b[1;33m:\u001b[0m\u001b[1;33m-\u001b[0m\u001b[1;36m2\u001b[0m\u001b[1;33m]\u001b[0m\u001b[1;33m\u001b[0m\u001b[0m\n\u001b[0;32m---> 27\u001b[0;31m                 \u001b[0mcategory_df\u001b[0m \u001b[1;33m=\u001b[0m \u001b[0mcategory_df\u001b[0m\u001b[1;33m.\u001b[0m\u001b[0mappend\u001b[0m\u001b[1;33m(\u001b[0m\u001b[1;33m{\u001b[0m\u001b[1;34m'product'\u001b[0m\u001b[1;33m:\u001b[0m \u001b[0mID\u001b[0m\u001b[1;33m,\u001b[0m \u001b[1;34m'category'\u001b[0m\u001b[1;33m:\u001b[0m \u001b[0mcategory\u001b[0m\u001b[1;33m}\u001b[0m\u001b[1;33m,\u001b[0m \u001b[0mignore_index\u001b[0m \u001b[1;33m=\u001b[0m \u001b[1;32mTrue\u001b[0m\u001b[1;33m)\u001b[0m\u001b[1;33m\u001b[0m\u001b[0m\n\u001b[0m\u001b[1;32m     28\u001b[0m                 \u001b[0mfull_cat_df\u001b[0m \u001b[1;33m=\u001b[0m \u001b[0mfull_cat_df\u001b[0m\u001b[1;33m.\u001b[0m\u001b[0mappend\u001b[0m\u001b[1;33m(\u001b[0m\u001b[1;33m{\u001b[0m\u001b[1;34m'product'\u001b[0m\u001b[1;33m:\u001b[0m \u001b[0mID\u001b[0m\u001b[1;33m,\u001b[0m \u001b[1;34m'category'\u001b[0m\u001b[1;33m:\u001b[0m \u001b[0mfullcat\u001b[0m\u001b[1;33m}\u001b[0m\u001b[1;33m,\u001b[0m \u001b[0mignore_index\u001b[0m \u001b[1;33m=\u001b[0m \u001b[1;32mTrue\u001b[0m\u001b[1;33m)\u001b[0m\u001b[1;33m\u001b[0m\u001b[0m\n\u001b[1;32m     29\u001b[0m \u001b[1;33m\u001b[0m\u001b[0m\n",
      "\u001b[0;32mC:\\Users\\asduser\\AppData\\Local\\Continuum\\Anaconda3\\lib\\site-packages\\pandas\\core\\frame.py\u001b[0m in \u001b[0;36mappend\u001b[0;34m(self, other, ignore_index, verify_integrity)\u001b[0m\n\u001b[1;32m   4533\u001b[0m             \u001b[0mother\u001b[0m \u001b[1;33m=\u001b[0m \u001b[0mother\u001b[0m\u001b[1;33m.\u001b[0m\u001b[0m_convert\u001b[0m\u001b[1;33m(\u001b[0m\u001b[0mdatetime\u001b[0m\u001b[1;33m=\u001b[0m\u001b[1;32mTrue\u001b[0m\u001b[1;33m,\u001b[0m \u001b[0mtimedelta\u001b[0m\u001b[1;33m=\u001b[0m\u001b[1;32mTrue\u001b[0m\u001b[1;33m)\u001b[0m\u001b[1;33m\u001b[0m\u001b[0m\n\u001b[1;32m   4534\u001b[0m             \u001b[1;32mif\u001b[0m \u001b[1;32mnot\u001b[0m \u001b[0mself\u001b[0m\u001b[1;33m.\u001b[0m\u001b[0mcolumns\u001b[0m\u001b[1;33m.\u001b[0m\u001b[0mequals\u001b[0m\u001b[1;33m(\u001b[0m\u001b[0mcombined_columns\u001b[0m\u001b[1;33m)\u001b[0m\u001b[1;33m:\u001b[0m\u001b[1;33m\u001b[0m\u001b[0m\n\u001b[0;32m-> 4535\u001b[0;31m                 \u001b[0mself\u001b[0m \u001b[1;33m=\u001b[0m \u001b[0mself\u001b[0m\u001b[1;33m.\u001b[0m\u001b[0mreindex\u001b[0m\u001b[1;33m(\u001b[0m\u001b[0mcolumns\u001b[0m\u001b[1;33m=\u001b[0m\u001b[0mcombined_columns\u001b[0m\u001b[1;33m)\u001b[0m\u001b[1;33m\u001b[0m\u001b[0m\n\u001b[0m\u001b[1;32m   4536\u001b[0m         \u001b[1;32melif\u001b[0m \u001b[0misinstance\u001b[0m\u001b[1;33m(\u001b[0m\u001b[0mother\u001b[0m\u001b[1;33m,\u001b[0m \u001b[0mlist\u001b[0m\u001b[1;33m)\u001b[0m \u001b[1;32mand\u001b[0m \u001b[1;32mnot\u001b[0m \u001b[0misinstance\u001b[0m\u001b[1;33m(\u001b[0m\u001b[0mother\u001b[0m\u001b[1;33m[\u001b[0m\u001b[1;36m0\u001b[0m\u001b[1;33m]\u001b[0m\u001b[1;33m,\u001b[0m \u001b[0mDataFrame\u001b[0m\u001b[1;33m)\u001b[0m\u001b[1;33m:\u001b[0m\u001b[1;33m\u001b[0m\u001b[0m\n\u001b[1;32m   4537\u001b[0m             \u001b[0mother\u001b[0m \u001b[1;33m=\u001b[0m \u001b[0mDataFrame\u001b[0m\u001b[1;33m(\u001b[0m\u001b[0mother\u001b[0m\u001b[1;33m)\u001b[0m\u001b[1;33m\u001b[0m\u001b[0m\n",
      "\u001b[0;32mC:\\Users\\asduser\\AppData\\Local\\Continuum\\Anaconda3\\lib\\site-packages\\pandas\\core\\frame.py\u001b[0m in \u001b[0;36mreindex\u001b[0;34m(self, index, columns, **kwargs)\u001b[0m\n\u001b[1;32m   2731\u001b[0m     \u001b[1;32mdef\u001b[0m \u001b[0mreindex\u001b[0m\u001b[1;33m(\u001b[0m\u001b[0mself\u001b[0m\u001b[1;33m,\u001b[0m \u001b[0mindex\u001b[0m\u001b[1;33m=\u001b[0m\u001b[1;32mNone\u001b[0m\u001b[1;33m,\u001b[0m \u001b[0mcolumns\u001b[0m\u001b[1;33m=\u001b[0m\u001b[1;32mNone\u001b[0m\u001b[1;33m,\u001b[0m \u001b[1;33m**\u001b[0m\u001b[0mkwargs\u001b[0m\u001b[1;33m)\u001b[0m\u001b[1;33m:\u001b[0m\u001b[1;33m\u001b[0m\u001b[0m\n\u001b[1;32m   2732\u001b[0m         return super(DataFrame, self).reindex(index=index, columns=columns,\n\u001b[0;32m-> 2733\u001b[0;31m                                               **kwargs)\n\u001b[0m\u001b[1;32m   2734\u001b[0m \u001b[1;33m\u001b[0m\u001b[0m\n\u001b[1;32m   2735\u001b[0m     \u001b[1;33m@\u001b[0m\u001b[0mAppender\u001b[0m\u001b[1;33m(\u001b[0m\u001b[0m_shared_docs\u001b[0m\u001b[1;33m[\u001b[0m\u001b[1;34m'reindex_axis'\u001b[0m\u001b[1;33m]\u001b[0m \u001b[1;33m%\u001b[0m \u001b[0m_shared_doc_kwargs\u001b[0m\u001b[1;33m)\u001b[0m\u001b[1;33m\u001b[0m\u001b[0m\n",
      "\u001b[0;32mC:\\Users\\asduser\\AppData\\Local\\Continuum\\Anaconda3\\lib\\site-packages\\pandas\\core\\generic.py\u001b[0m in \u001b[0;36mreindex\u001b[0;34m(self, *args, **kwargs)\u001b[0m\n\u001b[1;32m   2513\u001b[0m         \u001b[1;31m# perform the reindex on the axes\u001b[0m\u001b[1;33m\u001b[0m\u001b[1;33m\u001b[0m\u001b[0m\n\u001b[1;32m   2514\u001b[0m         return self._reindex_axes(axes, level, limit, tolerance, method,\n\u001b[0;32m-> 2515\u001b[0;31m                                   fill_value, copy).__finalize__(self)\n\u001b[0m\u001b[1;32m   2516\u001b[0m \u001b[1;33m\u001b[0m\u001b[0m\n\u001b[1;32m   2517\u001b[0m     def _reindex_axes(self, axes, level, limit, tolerance, method, fill_value,\n",
      "\u001b[0;32mC:\\Users\\asduser\\AppData\\Local\\Continuum\\Anaconda3\\lib\\site-packages\\pandas\\core\\frame.py\u001b[0m in \u001b[0;36m_reindex_axes\u001b[0;34m(self, axes, level, limit, tolerance, method, fill_value, copy)\u001b[0m\n\u001b[1;32m   2672\u001b[0m         \u001b[1;32mif\u001b[0m \u001b[0mcolumns\u001b[0m \u001b[1;32mis\u001b[0m \u001b[1;32mnot\u001b[0m \u001b[1;32mNone\u001b[0m\u001b[1;33m:\u001b[0m\u001b[1;33m\u001b[0m\u001b[0m\n\u001b[1;32m   2673\u001b[0m             frame = frame._reindex_columns(columns, method, copy, level,\n\u001b[0;32m-> 2674\u001b[0;31m                                            fill_value, limit, tolerance)\n\u001b[0m\u001b[1;32m   2675\u001b[0m \u001b[1;33m\u001b[0m\u001b[0m\n\u001b[1;32m   2676\u001b[0m         \u001b[0mindex\u001b[0m \u001b[1;33m=\u001b[0m \u001b[0maxes\u001b[0m\u001b[1;33m[\u001b[0m\u001b[1;34m'index'\u001b[0m\u001b[1;33m]\u001b[0m\u001b[1;33m\u001b[0m\u001b[0m\n",
      "\u001b[0;32mC:\\Users\\asduser\\AppData\\Local\\Continuum\\Anaconda3\\lib\\site-packages\\pandas\\core\\frame.py\u001b[0m in \u001b[0;36m_reindex_columns\u001b[0;34m(self, new_columns, method, copy, level, fill_value, limit, tolerance)\u001b[0m\n\u001b[1;32m   2697\u001b[0m         return self._reindex_with_indexers({1: [new_columns, indexer]},\n\u001b[1;32m   2698\u001b[0m                                            \u001b[0mcopy\u001b[0m\u001b[1;33m=\u001b[0m\u001b[0mcopy\u001b[0m\u001b[1;33m,\u001b[0m \u001b[0mfill_value\u001b[0m\u001b[1;33m=\u001b[0m\u001b[0mfill_value\u001b[0m\u001b[1;33m,\u001b[0m\u001b[1;33m\u001b[0m\u001b[0m\n\u001b[0;32m-> 2699\u001b[0;31m                                            allow_dups=False)\n\u001b[0m\u001b[1;32m   2700\u001b[0m \u001b[1;33m\u001b[0m\u001b[0m\n\u001b[1;32m   2701\u001b[0m     \u001b[1;32mdef\u001b[0m \u001b[0m_reindex_multi\u001b[0m\u001b[1;33m(\u001b[0m\u001b[0mself\u001b[0m\u001b[1;33m,\u001b[0m \u001b[0maxes\u001b[0m\u001b[1;33m,\u001b[0m \u001b[0mcopy\u001b[0m\u001b[1;33m,\u001b[0m \u001b[0mfill_value\u001b[0m\u001b[1;33m)\u001b[0m\u001b[1;33m:\u001b[0m\u001b[1;33m\u001b[0m\u001b[0m\n",
      "\u001b[0;32mC:\\Users\\asduser\\AppData\\Local\\Continuum\\Anaconda3\\lib\\site-packages\\pandas\\core\\generic.py\u001b[0m in \u001b[0;36m_reindex_with_indexers\u001b[0;34m(self, reindexers, fill_value, copy, allow_dups)\u001b[0m\n\u001b[1;32m   2625\u001b[0m                                                 \u001b[0mfill_value\u001b[0m\u001b[1;33m=\u001b[0m\u001b[0mfill_value\u001b[0m\u001b[1;33m,\u001b[0m\u001b[1;33m\u001b[0m\u001b[0m\n\u001b[1;32m   2626\u001b[0m                                                 \u001b[0mallow_dups\u001b[0m\u001b[1;33m=\u001b[0m\u001b[0mallow_dups\u001b[0m\u001b[1;33m,\u001b[0m\u001b[1;33m\u001b[0m\u001b[0m\n\u001b[0;32m-> 2627\u001b[0;31m                                                 copy=copy)\n\u001b[0m\u001b[1;32m   2628\u001b[0m \u001b[1;33m\u001b[0m\u001b[0m\n\u001b[1;32m   2629\u001b[0m         \u001b[1;32mif\u001b[0m \u001b[0mcopy\u001b[0m \u001b[1;32mand\u001b[0m \u001b[0mnew_data\u001b[0m \u001b[1;32mis\u001b[0m \u001b[0mself\u001b[0m\u001b[1;33m.\u001b[0m\u001b[0m_data\u001b[0m\u001b[1;33m:\u001b[0m\u001b[1;33m\u001b[0m\u001b[0m\n",
      "\u001b[0;32mC:\\Users\\asduser\\AppData\\Local\\Continuum\\Anaconda3\\lib\\site-packages\\pandas\\core\\internals.py\u001b[0m in \u001b[0;36mreindex_indexer\u001b[0;34m(self, new_axis, indexer, axis, fill_value, allow_dups, copy)\u001b[0m\n\u001b[1;32m   3875\u001b[0m                 \u001b[1;32mreturn\u001b[0m \u001b[0mself\u001b[0m\u001b[1;33m\u001b[0m\u001b[0m\n\u001b[1;32m   3876\u001b[0m \u001b[1;33m\u001b[0m\u001b[0m\n\u001b[0;32m-> 3877\u001b[0;31m             \u001b[0mresult\u001b[0m \u001b[1;33m=\u001b[0m \u001b[0mself\u001b[0m\u001b[1;33m.\u001b[0m\u001b[0mcopy\u001b[0m\u001b[1;33m(\u001b[0m\u001b[0mdeep\u001b[0m\u001b[1;33m=\u001b[0m\u001b[0mcopy\u001b[0m\u001b[1;33m)\u001b[0m\u001b[1;33m\u001b[0m\u001b[0m\n\u001b[0m\u001b[1;32m   3878\u001b[0m             \u001b[0mresult\u001b[0m\u001b[1;33m.\u001b[0m\u001b[0maxes\u001b[0m \u001b[1;33m=\u001b[0m \u001b[0mlist\u001b[0m\u001b[1;33m(\u001b[0m\u001b[0mself\u001b[0m\u001b[1;33m.\u001b[0m\u001b[0maxes\u001b[0m\u001b[1;33m)\u001b[0m\u001b[1;33m\u001b[0m\u001b[0m\n\u001b[1;32m   3879\u001b[0m             \u001b[0mresult\u001b[0m\u001b[1;33m.\u001b[0m\u001b[0maxes\u001b[0m\u001b[1;33m[\u001b[0m\u001b[0maxis\u001b[0m\u001b[1;33m]\u001b[0m \u001b[1;33m=\u001b[0m \u001b[0mnew_axis\u001b[0m\u001b[1;33m\u001b[0m\u001b[0m\n",
      "\u001b[0;32mC:\\Users\\asduser\\AppData\\Local\\Continuum\\Anaconda3\\lib\\site-packages\\pandas\\core\\internals.py\u001b[0m in \u001b[0;36mcopy\u001b[0;34m(self, deep, mgr)\u001b[0m\n\u001b[1;32m   3434\u001b[0m             \u001b[0mnew_axes\u001b[0m \u001b[1;33m=\u001b[0m \u001b[0mlist\u001b[0m\u001b[1;33m(\u001b[0m\u001b[0mself\u001b[0m\u001b[1;33m.\u001b[0m\u001b[0maxes\u001b[0m\u001b[1;33m)\u001b[0m\u001b[1;33m\u001b[0m\u001b[0m\n\u001b[1;32m   3435\u001b[0m         return self.apply('copy', axes=new_axes, deep=deep,\n\u001b[0;32m-> 3436\u001b[0;31m                           do_integrity_check=False)\n\u001b[0m\u001b[1;32m   3437\u001b[0m \u001b[1;33m\u001b[0m\u001b[0m\n\u001b[1;32m   3438\u001b[0m     \u001b[1;32mdef\u001b[0m \u001b[0mas_matrix\u001b[0m\u001b[1;33m(\u001b[0m\u001b[0mself\u001b[0m\u001b[1;33m,\u001b[0m \u001b[0mitems\u001b[0m\u001b[1;33m=\u001b[0m\u001b[1;32mNone\u001b[0m\u001b[1;33m)\u001b[0m\u001b[1;33m:\u001b[0m\u001b[1;33m\u001b[0m\u001b[0m\n",
      "\u001b[0;32mC:\\Users\\asduser\\AppData\\Local\\Continuum\\Anaconda3\\lib\\site-packages\\pandas\\core\\internals.py\u001b[0m in \u001b[0;36mapply\u001b[0;34m(self, f, axes, filter, do_integrity_check, consolidate, **kwargs)\u001b[0m\n\u001b[1;32m   3089\u001b[0m \u001b[1;33m\u001b[0m\u001b[0m\n\u001b[1;32m   3090\u001b[0m             \u001b[0mkwargs\u001b[0m\u001b[1;33m[\u001b[0m\u001b[1;34m'mgr'\u001b[0m\u001b[1;33m]\u001b[0m \u001b[1;33m=\u001b[0m \u001b[0mself\u001b[0m\u001b[1;33m\u001b[0m\u001b[0m\n\u001b[0;32m-> 3091\u001b[0;31m             \u001b[0mapplied\u001b[0m \u001b[1;33m=\u001b[0m \u001b[0mgetattr\u001b[0m\u001b[1;33m(\u001b[0m\u001b[0mb\u001b[0m\u001b[1;33m,\u001b[0m \u001b[0mf\u001b[0m\u001b[1;33m)\u001b[0m\u001b[1;33m(\u001b[0m\u001b[1;33m**\u001b[0m\u001b[0mkwargs\u001b[0m\u001b[1;33m)\u001b[0m\u001b[1;33m\u001b[0m\u001b[0m\n\u001b[0m\u001b[1;32m   3092\u001b[0m             \u001b[0mresult_blocks\u001b[0m \u001b[1;33m=\u001b[0m \u001b[0m_extend_blocks\u001b[0m\u001b[1;33m(\u001b[0m\u001b[0mapplied\u001b[0m\u001b[1;33m,\u001b[0m \u001b[0mresult_blocks\u001b[0m\u001b[1;33m)\u001b[0m\u001b[1;33m\u001b[0m\u001b[0m\n\u001b[1;32m   3093\u001b[0m \u001b[1;33m\u001b[0m\u001b[0m\n",
      "\u001b[0;32mC:\\Users\\asduser\\AppData\\Local\\Continuum\\Anaconda3\\lib\\site-packages\\pandas\\core\\internals.py\u001b[0m in \u001b[0;36mcopy\u001b[0;34m(self, deep, mgr)\u001b[0m\n\u001b[1;32m    628\u001b[0m         \u001b[1;32mif\u001b[0m \u001b[0mdeep\u001b[0m\u001b[1;33m:\u001b[0m\u001b[1;33m\u001b[0m\u001b[0m\n\u001b[1;32m    629\u001b[0m             \u001b[0mvalues\u001b[0m \u001b[1;33m=\u001b[0m \u001b[0mvalues\u001b[0m\u001b[1;33m.\u001b[0m\u001b[0mcopy\u001b[0m\u001b[1;33m(\u001b[0m\u001b[1;33m)\u001b[0m\u001b[1;33m\u001b[0m\u001b[0m\n\u001b[0;32m--> 630\u001b[0;31m         \u001b[1;32mreturn\u001b[0m \u001b[0mself\u001b[0m\u001b[1;33m.\u001b[0m\u001b[0mmake_block_same_class\u001b[0m\u001b[1;33m(\u001b[0m\u001b[0mvalues\u001b[0m\u001b[1;33m)\u001b[0m\u001b[1;33m\u001b[0m\u001b[0m\n\u001b[0m\u001b[1;32m    631\u001b[0m \u001b[1;33m\u001b[0m\u001b[0m\n\u001b[1;32m    632\u001b[0m     def replace(self, to_replace, value, inplace=False, filter=None,\n",
      "\u001b[0;31mKeyboardInterrupt\u001b[0m: "
     ]
    }
   ],
   "source": [
    "# Here I will again get the ASIN and then collect the category of all the books. \n",
    "\n",
    "category_df = pd.DataFrame(columns=['product', 'category']) \n",
    "full_cat_df = pd.DataFrame(columns=['product', 'category']) \n",
    "cat = 'something'# prepare category check\n",
    "\n",
    "with open('amazon-meta.txt', encoding = 'latin-1') as file:\n",
    "\n",
    "    # Iterate over the generator from read_large_file()\n",
    "    for line in read_large_file(file):  \n",
    "        row = line.split(':')                    # read the line\n",
    "        first_col = row[0]                       # select the asin\n",
    "        if first_col[0] == 'A':\n",
    "            ID = row[1]\n",
    "            ID = re.findall(r'\\w+', ID)\n",
    "            \n",
    "        if len(first_col) >= 3:\n",
    "            if first_col[2] == 'g' and row[1][1] == 'B':\n",
    "                cat = 'book'\n",
    "            elif first_col[2] =='g' and row[1][1] !='B':\n",
    "                cat = 'something'\n",
    "        if len(line) >= 3:\n",
    "            if line[3] == '|' and cat == 'book':\n",
    "                fullcat = line[:-1]\n",
    "                customer_info = line.split('|')\n",
    "                category = customer_info[-1][:-1] # forgot to change this before I ran it, but a future running would make it look like I want\n",
    "                category_df = category_df.append({'product': ID, 'category': category}, ignore_index = True)\n",
    "                full_cat_df = full_cat_df.append({'product': ID, 'category': fullcat}, ignore_index = True)\n",
    "            "
   ]
  },
  {
   "cell_type": "code",
   "execution_count": 15,
   "metadata": {
    "collapsed": false,
    "scrolled": true
   },
   "outputs": [
    {
     "data": {
      "text/plain": [
       "363302"
      ]
     },
     "execution_count": 15,
     "metadata": {},
     "output_type": "execute_result"
    }
   ],
   "source": [
    "len(category_df)"
   ]
  },
  {
   "cell_type": "code",
   "execution_count": 16,
   "metadata": {
    "collapsed": false
   },
   "outputs": [
    {
     "data": {
      "text/html": [
       "<div>\n",
       "<style>\n",
       "    .dataframe thead tr:only-child th {\n",
       "        text-align: right;\n",
       "    }\n",
       "\n",
       "    .dataframe thead th {\n",
       "        text-align: left;\n",
       "    }\n",
       "\n",
       "    .dataframe tbody tr th {\n",
       "        vertical-align: top;\n",
       "    }\n",
       "</style>\n",
       "<table border=\"1\" class=\"dataframe\">\n",
       "  <thead>\n",
       "    <tr style=\"text-align: right;\">\n",
       "      <th></th>\n",
       "      <th>product</th>\n",
       "      <th>category</th>\n",
       "    </tr>\n",
       "  </thead>\n",
       "  <tbody>\n",
       "    <tr>\n",
       "      <th>0</th>\n",
       "      <td>[0827229534]</td>\n",
       "      <td>Preaching[12368</td>\n",
       "    </tr>\n",
       "    <tr>\n",
       "      <th>1</th>\n",
       "      <td>[0827229534]</td>\n",
       "      <td>Sermons[12370</td>\n",
       "    </tr>\n",
       "    <tr>\n",
       "      <th>2</th>\n",
       "      <td>[0738700797]</td>\n",
       "      <td>Wicca[12484</td>\n",
       "    </tr>\n",
       "    <tr>\n",
       "      <th>3</th>\n",
       "      <td>[0738700797]</td>\n",
       "      <td>Witchcraft[12486</td>\n",
       "    </tr>\n",
       "    <tr>\n",
       "      <th>4</th>\n",
       "      <td>[0486287785]</td>\n",
       "      <td>General[5144</td>\n",
       "    </tr>\n",
       "  </tbody>\n",
       "</table>\n",
       "</div>"
      ],
      "text/plain": [
       "        product          category\n",
       "0  [0827229534]   Preaching[12368\n",
       "1  [0827229534]     Sermons[12370\n",
       "2  [0738700797]       Wicca[12484\n",
       "3  [0738700797]  Witchcraft[12486\n",
       "4  [0486287785]      General[5144"
      ]
     },
     "execution_count": 16,
     "metadata": {},
     "output_type": "execute_result"
    }
   ],
   "source": [
    "category_df.head()"
   ]
  },
  {
   "cell_type": "code",
   "execution_count": 17,
   "metadata": {
    "collapsed": false
   },
   "outputs": [
    {
     "data": {
      "text/plain": [
       "363302"
      ]
     },
     "execution_count": 17,
     "metadata": {},
     "output_type": "execute_result"
    }
   ],
   "source": [
    "len(full_cat_df)"
   ]
  },
  {
   "cell_type": "code",
   "execution_count": 18,
   "metadata": {
    "collapsed": false
   },
   "outputs": [
    {
     "data": {
      "text/html": [
       "<div>\n",
       "<style>\n",
       "    .dataframe thead tr:only-child th {\n",
       "        text-align: right;\n",
       "    }\n",
       "\n",
       "    .dataframe thead th {\n",
       "        text-align: left;\n",
       "    }\n",
       "\n",
       "    .dataframe tbody tr th {\n",
       "        vertical-align: top;\n",
       "    }\n",
       "</style>\n",
       "<table border=\"1\" class=\"dataframe\">\n",
       "  <thead>\n",
       "    <tr style=\"text-align: right;\">\n",
       "      <th></th>\n",
       "      <th>product</th>\n",
       "      <th>category</th>\n",
       "    </tr>\n",
       "  </thead>\n",
       "  <tbody>\n",
       "    <tr>\n",
       "      <th>0</th>\n",
       "      <td>[0827229534]</td>\n",
       "      <td>|Books[283155]|Subjects[1000]|Religion &amp; Sp...</td>\n",
       "    </tr>\n",
       "    <tr>\n",
       "      <th>1</th>\n",
       "      <td>[0827229534]</td>\n",
       "      <td>|Books[283155]|Subjects[1000]|Religion &amp; Sp...</td>\n",
       "    </tr>\n",
       "    <tr>\n",
       "      <th>2</th>\n",
       "      <td>[0738700797]</td>\n",
       "      <td>|Books[283155]|Subjects[1000]|Religion &amp; Sp...</td>\n",
       "    </tr>\n",
       "    <tr>\n",
       "      <th>3</th>\n",
       "      <td>[0738700797]</td>\n",
       "      <td>|Books[283155]|Subjects[1000]|Religion &amp; Sp...</td>\n",
       "    </tr>\n",
       "    <tr>\n",
       "      <th>4</th>\n",
       "      <td>[0486287785]</td>\n",
       "      <td>|Books[283155]|Subjects[1000]|Home &amp; Garden...</td>\n",
       "    </tr>\n",
       "    <tr>\n",
       "      <th>5</th>\n",
       "      <td>[0842328327]</td>\n",
       "      <td>|Books[283155]|Subjects[1000]|Religion &amp; Sp...</td>\n",
       "    </tr>\n",
       "    <tr>\n",
       "      <th>6</th>\n",
       "      <td>[0842328327]</td>\n",
       "      <td>|Books[283155]|Subjects[1000]|Religion &amp; Sp...</td>\n",
       "    </tr>\n",
       "    <tr>\n",
       "      <th>7</th>\n",
       "      <td>[0842328327]</td>\n",
       "      <td>|Books[283155]|Subjects[1000]|Religion &amp; Sp...</td>\n",
       "    </tr>\n",
       "    <tr>\n",
       "      <th>8</th>\n",
       "      <td>[0842328327]</td>\n",
       "      <td>|Books[283155]|Subjects[1000]|Religion &amp; Sp...</td>\n",
       "    </tr>\n",
       "    <tr>\n",
       "      <th>9</th>\n",
       "      <td>[0842328327]</td>\n",
       "      <td>|Books[283155]|Subjects[1000]|Religion &amp; Sp...</td>\n",
       "    </tr>\n",
       "  </tbody>\n",
       "</table>\n",
       "</div>"
      ],
      "text/plain": [
       "        product                                           category\n",
       "0  [0827229534]     |Books[283155]|Subjects[1000]|Religion & Sp...\n",
       "1  [0827229534]     |Books[283155]|Subjects[1000]|Religion & Sp...\n",
       "2  [0738700797]     |Books[283155]|Subjects[1000]|Religion & Sp...\n",
       "3  [0738700797]     |Books[283155]|Subjects[1000]|Religion & Sp...\n",
       "4  [0486287785]     |Books[283155]|Subjects[1000]|Home & Garden...\n",
       "5  [0842328327]     |Books[283155]|Subjects[1000]|Religion & Sp...\n",
       "6  [0842328327]     |Books[283155]|Subjects[1000]|Religion & Sp...\n",
       "7  [0842328327]     |Books[283155]|Subjects[1000]|Religion & Sp...\n",
       "8  [0842328327]     |Books[283155]|Subjects[1000]|Religion & Sp...\n",
       "9  [0842328327]     |Books[283155]|Subjects[1000]|Religion & Sp..."
      ]
     },
     "execution_count": 18,
     "metadata": {},
     "output_type": "execute_result"
    }
   ],
   "source": [
    "full_cat_df.head(10)"
   ]
  },
  {
   "cell_type": "code",
   "execution_count": 19,
   "metadata": {
    "collapsed": false
   },
   "outputs": [
    {
     "data": {
      "text/plain": [
       "10968"
      ]
     },
     "execution_count": 19,
     "metadata": {},
     "output_type": "execute_result"
    }
   ],
   "source": [
    "len(category_df['category'].value_counts())"
   ]
  },
  {
   "cell_type": "code",
   "execution_count": 20,
   "metadata": {
    "collapsed": false
   },
   "outputs": [
    {
     "data": {
      "text/plain": [
       "10968"
      ]
     },
     "execution_count": 20,
     "metadata": {},
     "output_type": "execute_result"
    }
   ],
   "source": [
    "len(full_cat_df['category'].value_counts())"
   ]
  },
  {
   "cell_type": "markdown",
   "metadata": {},
   "source": [
    "So far I have looked at the format of the category data and have made two dataframes in slightly different versions - one with the whole category tree and one with just the final category name. As you can see, they have the same length when doing value_counts, so it looks like each ending has a unique tree. With that in mind, I will focus my work on the shorter version. I will also now save these dataframes so I don't have to run the code again."
   ]
  },
  {
   "cell_type": "code",
   "execution_count": 22,
   "metadata": {
    "collapsed": true
   },
   "outputs": [],
   "source": [
    "#category_df.to_pickle('category.pkl')\n",
    "#full_cat_df.to_pickle('full_cat.pkl')"
   ]
  },
  {
   "cell_type": "code",
   "execution_count": 31,
   "metadata": {
    "collapsed": false
   },
   "outputs": [],
   "source": [
    "#category_df['product']=category_df['product'].astype('str') - not the most elegant solution, but it gets the job done"
   ]
  },
  {
   "cell_type": "code",
   "execution_count": 24,
   "metadata": {
    "collapsed": false
   },
   "outputs": [
    {
     "data": {
      "text/plain": [
       "(array([  9.43900000e+03,   7.12000000e+02,   3.27000000e+02,\n",
       "          1.88000000e+02,   7.90000000e+01,   4.20000000e+01,\n",
       "          3.70000000e+01,   2.60000000e+01,   1.90000000e+01,\n",
       "          1.20000000e+01,   1.40000000e+01,   9.00000000e+00,\n",
       "          8.00000000e+00,   3.00000000e+00,   3.00000000e+00,\n",
       "          4.00000000e+00,   3.00000000e+00,   7.00000000e+00,\n",
       "          1.00000000e+00,   1.00000000e+00,   5.00000000e+00,\n",
       "          1.00000000e+00,   2.00000000e+00,   2.00000000e+00,\n",
       "          0.00000000e+00,   1.00000000e+00,   1.00000000e+00,\n",
       "          3.00000000e+00,   0.00000000e+00,   3.00000000e+00,\n",
       "          1.00000000e+00,   0.00000000e+00,   0.00000000e+00,\n",
       "          0.00000000e+00,   1.00000000e+00,   1.00000000e+00,\n",
       "          0.00000000e+00,   1.00000000e+00,   0.00000000e+00,\n",
       "          0.00000000e+00,   0.00000000e+00,   1.00000000e+00,\n",
       "          0.00000000e+00,   2.00000000e+00,   0.00000000e+00,\n",
       "          0.00000000e+00,   1.00000000e+00,   1.00000000e+00,\n",
       "          0.00000000e+00,   0.00000000e+00,   0.00000000e+00,\n",
       "          0.00000000e+00,   0.00000000e+00,   0.00000000e+00,\n",
       "          0.00000000e+00,   0.00000000e+00,   0.00000000e+00,\n",
       "          0.00000000e+00,   0.00000000e+00,   1.00000000e+00,\n",
       "          0.00000000e+00,   1.00000000e+00,   0.00000000e+00,\n",
       "          1.00000000e+00,   1.00000000e+00,   0.00000000e+00,\n",
       "          0.00000000e+00,   0.00000000e+00,   0.00000000e+00,\n",
       "          0.00000000e+00,   0.00000000e+00,   0.00000000e+00,\n",
       "          0.00000000e+00,   0.00000000e+00,   1.00000000e+00,\n",
       "          0.00000000e+00,   0.00000000e+00,   0.00000000e+00,\n",
       "          0.00000000e+00,   0.00000000e+00,   0.00000000e+00,\n",
       "          0.00000000e+00,   0.00000000e+00,   0.00000000e+00,\n",
       "          0.00000000e+00,   0.00000000e+00,   0.00000000e+00,\n",
       "          0.00000000e+00,   0.00000000e+00,   0.00000000e+00,\n",
       "          0.00000000e+00,   0.00000000e+00,   0.00000000e+00,\n",
       "          0.00000000e+00,   0.00000000e+00,   0.00000000e+00,\n",
       "          0.00000000e+00,   0.00000000e+00,   0.00000000e+00,\n",
       "          2.00000000e+00]),\n",
       " array([  1.00000000e+00,   4.80400000e+01,   9.50800000e+01,\n",
       "          1.42120000e+02,   1.89160000e+02,   2.36200000e+02,\n",
       "          2.83240000e+02,   3.30280000e+02,   3.77320000e+02,\n",
       "          4.24360000e+02,   4.71400000e+02,   5.18440000e+02,\n",
       "          5.65480000e+02,   6.12520000e+02,   6.59560000e+02,\n",
       "          7.06600000e+02,   7.53640000e+02,   8.00680000e+02,\n",
       "          8.47720000e+02,   8.94760000e+02,   9.41800000e+02,\n",
       "          9.88840000e+02,   1.03588000e+03,   1.08292000e+03,\n",
       "          1.12996000e+03,   1.17700000e+03,   1.22404000e+03,\n",
       "          1.27108000e+03,   1.31812000e+03,   1.36516000e+03,\n",
       "          1.41220000e+03,   1.45924000e+03,   1.50628000e+03,\n",
       "          1.55332000e+03,   1.60036000e+03,   1.64740000e+03,\n",
       "          1.69444000e+03,   1.74148000e+03,   1.78852000e+03,\n",
       "          1.83556000e+03,   1.88260000e+03,   1.92964000e+03,\n",
       "          1.97668000e+03,   2.02372000e+03,   2.07076000e+03,\n",
       "          2.11780000e+03,   2.16484000e+03,   2.21188000e+03,\n",
       "          2.25892000e+03,   2.30596000e+03,   2.35300000e+03,\n",
       "          2.40004000e+03,   2.44708000e+03,   2.49412000e+03,\n",
       "          2.54116000e+03,   2.58820000e+03,   2.63524000e+03,\n",
       "          2.68228000e+03,   2.72932000e+03,   2.77636000e+03,\n",
       "          2.82340000e+03,   2.87044000e+03,   2.91748000e+03,\n",
       "          2.96452000e+03,   3.01156000e+03,   3.05860000e+03,\n",
       "          3.10564000e+03,   3.15268000e+03,   3.19972000e+03,\n",
       "          3.24676000e+03,   3.29380000e+03,   3.34084000e+03,\n",
       "          3.38788000e+03,   3.43492000e+03,   3.48196000e+03,\n",
       "          3.52900000e+03,   3.57604000e+03,   3.62308000e+03,\n",
       "          3.67012000e+03,   3.71716000e+03,   3.76420000e+03,\n",
       "          3.81124000e+03,   3.85828000e+03,   3.90532000e+03,\n",
       "          3.95236000e+03,   3.99940000e+03,   4.04644000e+03,\n",
       "          4.09348000e+03,   4.14052000e+03,   4.18756000e+03,\n",
       "          4.23460000e+03,   4.28164000e+03,   4.32868000e+03,\n",
       "          4.37572000e+03,   4.42276000e+03,   4.46980000e+03,\n",
       "          4.51684000e+03,   4.56388000e+03,   4.61092000e+03,\n",
       "          4.65796000e+03,   4.70500000e+03]),\n",
       " <a list of 100 Patch objects>)"
      ]
     },
     "execution_count": 24,
     "metadata": {},
     "output_type": "execute_result"
    },
    {
     "data": {
      "image/png": "[encoded data removed]",
      "text/plain": [
       "<matplotlib.figure.Figure at 0x11489a58>"
      ]
     },
     "metadata": {},
     "output_type": "display_data"
    }
   ],
   "source": [
    "plt.hist(category_df['category'].value_counts(), bins=100)"
   ]
  },
  {
   "cell_type": "code",
   "execution_count": 25,
   "metadata": {
    "collapsed": false
   },
   "outputs": [
    {
     "data": {
      "text/plain": [
       "General[767880                       4705\n",
       "General[2612                         4705\n",
       "General[408268                       3528\n",
       "General[2375                         3046\n",
       "General[11289                        2970\n",
       "General[170062                       2903\n",
       "Contemporary[10129                   2788\n",
       "General[10635                        2252\n",
       "General[657762                       2166\n",
       "General[170063                       2046\n",
       "General[11175                        2040\n",
       "General[11083                        1968\n",
       "General[11086921                     1744\n",
       "General[605116                       1685\n",
       "General[4233                         1610\n",
       "Classics[10127                       1413\n",
       "Literary[10132                       1410\n",
       "General[4738                         1388\n",
       "General[11043                        1372\n",
       "General[658010                       1309\n",
       "General[5144                         1309\n",
       "General[12341                        1302\n",
       "General[10466                        1225\n",
       "General[16282                        1195\n",
       "General[12667                        1124\n",
       "General[1005                         1114\n",
       "Picture Books[170061                 1046\n",
       "General[13361                        1040\n",
       "Action & Adventure[2967              1003\n",
       "Humorous[3003                         979\n",
       "                                     ... \n",
       "Child, Maureen[265005                   1\n",
       "Cavafy, C.P.[70163                      1\n",
       "All Works by Machaut[25563              1\n",
       "Gold Guides[640174                      1\n",
       "Sebastian Barth Mystery[290730          1\n",
       "Myst & Riven[3439                       1\n",
       "Inheritance[14025831                    1\n",
       "General[37638                           1\n",
       "Acapulco[640284                         1\n",
       "All Works by Tippett[34239              1\n",
       "Image Composer[4154                     1\n",
       "Taylor, Lucy[9316                       1\n",
       "Raggedy Ann & Raggedy Andy[290722       1\n",
       "Must-Reads[281042                       1\n",
       "Childhood Leukemia[282807               1\n",
       "Caro, Anthony[1158                      1\n",
       "Kelly, Ronald[7441                      1\n",
       "All Works by J.S. Bach[7616             1\n",
       "Masterson, Graham[7958                  1\n",
       "Bellini, Giovanni[67921                 1\n",
       "Martin, Agnes[1324                      1\n",
       "Bradford, Barbara Taylor[10825311       1\n",
       "Droids[733778                           1\n",
       "Archer, Jeffrey[69330                   1\n",
       "Deverell, William[10349                 1\n",
       "Steichen, Edward[1422                   1\n",
       "Humor[11735                             1\n",
       "Minibooks[281575                        1\n",
       "James, P. D.[585808                     1\n",
       "Japan[640476                            1\n",
       "Name: category, Length: 10968, dtype: int64"
      ]
     },
     "execution_count": 25,
     "metadata": {},
     "output_type": "execute_result"
    }
   ],
   "source": [
    "category_df['category'].value_counts()"
   ]
  },
  {
   "cell_type": "code",
   "execution_count": 33,
   "metadata": {
    "collapsed": false
   },
   "outputs": [
    {
     "data": {
      "text/plain": [
       "94729"
      ]
     },
     "execution_count": 33,
     "metadata": {},
     "output_type": "execute_result"
    }
   ],
   "source": [
    "len(category_df['product'].value_counts())"
   ]
  },
  {
   "cell_type": "code",
   "execution_count": 34,
   "metadata": {
    "collapsed": false
   },
   "outputs": [
    {
     "data": {
      "text/plain": [
       "3.83517191145267"
      ]
     },
     "execution_count": 34,
     "metadata": {},
     "output_type": "execute_result"
    }
   ],
   "source": [
    "363302/94729"
   ]
  },
  {
   "cell_type": "markdown",
   "metadata": {},
   "source": [
    "So there are an average of 4 categories per product."
   ]
  },
  {
   "cell_type": "code",
   "execution_count": 35,
   "metadata": {
    "collapsed": false
   },
   "outputs": [
    {
     "data": {
      "text/html": [
       "<div>\n",
       "<style>\n",
       "    .dataframe thead tr:only-child th {\n",
       "        text-align: right;\n",
       "    }\n",
       "\n",
       "    .dataframe thead th {\n",
       "        text-align: left;\n",
       "    }\n",
       "\n",
       "    .dataframe tbody tr th {\n",
       "        vertical-align: top;\n",
       "    }\n",
       "</style>\n",
       "<table border=\"1\" class=\"dataframe\">\n",
       "  <thead>\n",
       "    <tr style=\"text-align: right;\">\n",
       "      <th></th>\n",
       "      <th>product</th>\n",
       "      <th>category</th>\n",
       "    </tr>\n",
       "  </thead>\n",
       "  <tbody>\n",
       "    <tr>\n",
       "      <th>count</th>\n",
       "      <td>363302</td>\n",
       "      <td>363302</td>\n",
       "    </tr>\n",
       "    <tr>\n",
       "      <th>unique</th>\n",
       "      <td>94729</td>\n",
       "      <td>10968</td>\n",
       "    </tr>\n",
       "    <tr>\n",
       "      <th>top</th>\n",
       "      <td>['9626341408']</td>\n",
       "      <td>General[767880</td>\n",
       "    </tr>\n",
       "    <tr>\n",
       "      <th>freq</th>\n",
       "      <td>116</td>\n",
       "      <td>4705</td>\n",
       "    </tr>\n",
       "  </tbody>\n",
       "</table>\n",
       "</div>"
      ],
      "text/plain": [
       "               product        category\n",
       "count           363302          363302\n",
       "unique           94729           10968\n",
       "top     ['9626341408']  General[767880\n",
       "freq               116            4705"
      ]
     },
     "execution_count": 35,
     "metadata": {},
     "output_type": "execute_result"
    }
   ],
   "source": [
    "category_df.describe()"
   ]
  },
  {
   "cell_type": "markdown",
   "metadata": {},
   "source": [
    "Wow, one product has 116 categories, that's ridiculous."
   ]
  },
  {
   "cell_type": "code",
   "execution_count": 37,
   "metadata": {
    "collapsed": false
   },
   "outputs": [
    {
     "name": "stdout",
     "output_type": "stream",
     "text": [
      "393562\n"
     ]
    }
   ],
   "source": [
    "#just want to see how many books there are since this runs faster than creating the dataframe\n",
    "#see how many I got since I had to cut it out early\n",
    "book_count = 0\n",
    "with open('amazon-meta.txt', encoding = 'latin-1') as file:\n",
    "\n",
    "    # Iterate over the generator from read_large_file()\n",
    "    for line in read_large_file(file):  \n",
    "        row = line.split(':')                    # read the line\n",
    "        first_col = row[0]  \n",
    "        if len(first_col) >= 3:\n",
    "            if first_col[2] == 'g' and row[1][1] == 'B':\n",
    "                book_count = book_count + 1\n",
    "\n",
    "print(book_count)"
   ]
  },
  {
   "cell_type": "markdown",
   "metadata": {},
   "source": [
    "So, I got about 1/4 of the books. I'll have to consider that this 1/4 is representative of the rest of the sample."
   ]
  },
  {
   "cell_type": "code",
   "execution_count": 42,
   "metadata": {
    "collapsed": true
   },
   "outputs": [],
   "source": [
    "x = category_df['category'].value_counts()"
   ]
  },
  {
   "cell_type": "code",
   "execution_count": 48,
   "metadata": {
    "collapsed": false
   },
   "outputs": [
    {
     "data": {
      "text/plain": [
       "241377"
      ]
     },
     "execution_count": 48,
     "metadata": {},
     "output_type": "execute_result"
    }
   ],
   "source": [
    "x[0:1001].sum()"
   ]
  },
  {
   "cell_type": "code",
   "execution_count": 51,
   "metadata": {
    "collapsed": false
   },
   "outputs": [
    {
     "name": "stdout",
     "output_type": "stream",
     "text": [
      "2500\n"
     ]
    }
   ],
   "source": [
    "l = 1000\n",
    "for i in range(20):\n",
    "    if x[:l].sum() >= 363302*.85:\n",
    "        print(l)\n",
    "        break\n",
    "    else:\n",
    "        l = l+100\n",
    "    "
   ]
  },
  {
   "cell_type": "code",
   "execution_count": 52,
   "metadata": {
    "collapsed": false
   },
   "outputs": [
    {
     "data": {
      "text/plain": [
       "309175"
      ]
     },
     "execution_count": 52,
     "metadata": {},
     "output_type": "execute_result"
    }
   ],
   "source": [
    "x[:2500].sum()"
   ]
  },
  {
   "cell_type": "code",
   "execution_count": 59,
   "metadata": {
    "collapsed": false
   },
   "outputs": [
    {
     "data": {
      "text/plain": [
       "85.10137571496992"
      ]
     },
     "execution_count": 59,
     "metadata": {},
     "output_type": "execute_result"
    }
   ],
   "source": [
    "x[:2500].sum()/len(category_df)*100"
   ]
  },
  {
   "cell_type": "code",
   "execution_count": 60,
   "metadata": {
    "collapsed": false
   },
   "outputs": [
    {
     "data": {
      "text/plain": [
       "22.793581327498178"
      ]
     },
     "execution_count": 60,
     "metadata": {},
     "output_type": "execute_result"
    }
   ],
   "source": [
    "2500/len(x)*100"
   ]
  },
  {
   "cell_type": "code",
   "execution_count": 61,
   "metadata": {
    "collapsed": false
   },
   "outputs": [
    {
     "data": {
      "text/plain": [
       "68.51187166599688"
      ]
     },
     "execution_count": 61,
     "metadata": {},
     "output_type": "execute_result"
    }
   ],
   "source": [
    "x[:1100].sum()/len(category_df)*100"
   ]
  },
  {
   "cell_type": "markdown",
   "metadata": {},
   "source": [
    "## Part 2 answer\n",
    "It appears that there are several redundencies. Each product has an average of 4 categories, with some having many more (up to 116). Further, a quick glance at the most common categories show that most of the top 10 are different \"variations\" on the category \"General\". So, yes, there is room for improvement. \n",
    "\n",
    "Can these be reduced at low cost? For the most part, yes. If you strictly use 10% of the categories you can revmove about 2/3 of the entries (68%). To remove closer to 90% of the entries you have to get rid of about 25% of the categories."
   ]
  },
  {
   "cell_type": "markdown",
   "metadata": {
    "collapsed": true
   },
   "source": [
    "## Part 3"
   ]
  },
  {
   "cell_type": "markdown",
   "metadata": {},
   "source": [
    "1. Algorithm thinking\n",
    "How would build the product categorization from scratch, using similar/co-purchased\n",
    "information?\n",
    "2. Product thinking\n",
    "Now, put on your 'product thinking' hat.\n",
    "a. Is it a good idea to show users the categorization hierarchy for items?\n",
    "b. Is it a good idea to show users similar/co-purchased items?\n",
    "c. Is it a good idea to show users reviews and ratings for items?\n",
    "d. For each of the above, why? How will you establish the same?"
   ]
  },
  {
   "cell_type": "markdown",
   "metadata": {},
   "source": [
    "1.\n",
    "Assuming there is no category labels or information, then I would use an unsupervised learning algorithm to try and cluster similar products. Probably Knn. After finding the clusters I could search those products names/titles to look for words to label the categories. \n",
    "\n",
    "If you are looking for the heirarchal structure, a decision tree could be good so that you can look at the nodes to build the heirarchy."
   ]
  },
  {
   "cell_type": "markdown",
   "metadata": {},
   "source": [
    "2 \n",
    "a.\n",
    "I don't think the category information is especially necessary to be shown, especially in the current format. It is so messy.\n",
    "\n",
    "b. I do think the similar purchase information is helpful as it gives an idea of other products to consider if this one isn't quite right.\n",
    "\n",
    "c. I also personally find reviews very helpful.\n",
    "\n",
    "d. To justify these I would approach it with A/B testing. Let some customers see ratings, and some not and compare the rate of purchases per page visit between the groups. Similarly for the other questions."
   ]
  }
 ],
 "metadata": {
  "kernelspec": {
   "display_name": "Python 3",
   "language": "python",
   "name": "python3"
  },
  "language_info": {
   "codemirror_mode": {
    "name": "ipython",
    "version": 3
   },
   "file_extension": ".py",
   "mimetype": "text/x-python",
   "name": "python",
   "nbconvert_exporter": "python",
   "pygments_lexer": "ipython3",
   "version": "3.6.0"
  }
 },
 "nbformat": 4,
 "nbformat_minor": 2
}
